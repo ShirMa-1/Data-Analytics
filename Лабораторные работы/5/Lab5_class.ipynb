{
 "cells": [
  {
   "cell_type": "markdown",
   "metadata": {},
   "source": [
    "**Задание 1**\n",
    "Напишите метод, которая возвращает название валюты (поле ‘Name’) с максимальным значением курса с помощью сервиса https://www.cbr-xml-daily.ru/daily_json.js"
   ]
  },
  {
   "cell_type": "code",
   "execution_count": 8,
   "metadata": {},
   "outputs": [],
   "source": [
    "import requests\n",
    "import json"
   ]
  },
  {
   "cell_type": "code",
   "execution_count": 55,
   "metadata": {},
   "outputs": [],
   "source": [
    "class Rate:\n",
    "    def __init__(self, format_='value'):\n",
    "        self.format = format_\n",
    "    \n",
    "    def exchange_rates(self):\n",
    "        \"\"\"\n",
    "        Возвращает ответ сервиса с информацией о валютах в виде:\n",
    "        \n",
    "        {\n",
    "            'AMD': {\n",
    "                'CharCode': 'AMD',\n",
    "                'ID': 'R01060',\n",
    "                'Name': 'Армянских драмов',\n",
    "                'Nominal': 100,\n",
    "                'NumCode': '051',\n",
    "                'Previous': 14.103,\n",
    "                'Value': 14.0879\n",
    "                },\n",
    "            ...\n",
    "        }\n",
    "        \"\"\"\n",
    "        self.r = requests.get('https://www.cbr-xml-daily.ru/daily_json.js')\n",
    "        return self.r.json()['Valute']\n",
    "    \n",
    "    def make_format(self, currency, diff):\n",
    "        \"\"\"\n",
    "        Возвращает информацию о валюте currency в двух вариантах:\n",
    "        - полная информация о валюте при self.format = 'full':\n",
    "        Rate('full').make_format('EUR')\n",
    "        {\n",
    "            'CharCode': 'EUR',\n",
    "            'ID': 'R01239',\n",
    "            'Name': 'Евро',\n",
    "            'Nominal': 1,\n",
    "            'NumCode': '978',\n",
    "            'Previous': 79.6765,\n",
    "            'Value': 79.4966\n",
    "        }\n",
    "        \n",
    "        Rate('value').make_format('EUR')\n",
    "        79.4966\n",
    "        \"\"\"\n",
    "        response = self.exchange_rates()\n",
    "        \n",
    "        if currency in response:\n",
    "            if self.format == 'full':\n",
    "                return response[currency]\n",
    "            \n",
    "            if self.format == 'value':\n",
    "                if diff == True:\n",
    "                    now = x = response[currency]['Value']\n",
    "                    prev = x = response[currency]['Previous']\n",
    "                    x = round(now-prev, 3)\n",
    "                else:\n",
    "                    x = response[currency]['Value']\n",
    "                return x\n",
    "        \n",
    "        return 'Error'\n",
    "    \n",
    "    def eur(self):\n",
    "        \"\"\"Возвращает курс евро на сегодня в формате self.format\"\"\"\n",
    "        return self.make_format('EUR')\n",
    "    \n",
    "    def usd(self):\n",
    "        \"\"\"Возвращает курс доллара на сегодня в формате self.format\"\"\"\n",
    "        return self.make_format('USD')\n",
    "    \n",
    "    def brl(self):\n",
    "        \"\"\"Возвращает курс бразильского реала на сегодня в формате self.format\"\"\"\n",
    "        return self.make_format('BRL')"
   ]
  },
  {
   "cell_type": "code",
   "execution_count": 57,
   "metadata": {},
   "outputs": [
    {
     "name": "stdout",
     "output_type": "stream",
     "text": [
      "XDR   СДР (специальные права заимствования)   110.1669\n"
     ]
    }
   ],
   "source": [
    "dict_currency = Rate().exchange_rates()\n",
    "maxValue, maxValute, maxName = max([(dict_currency[x]['Value']/dict_currency[x]['Nominal'], x, dict_currency[x]['Name'])\n",
    "                         for x in dict_currency])\n",
    "print(maxValute, \" \" , maxName, \" \", maxValue)"
   ]
  },
  {
   "cell_type": "markdown",
   "metadata": {},
   "source": [
    "**Задание 2**\n",
    "Добавьте в класс Rate параметр diff (со значениями True или False), который в случае значения True в методах курсов валют (eur, usd итд) будет возвращать не курс валюты, а изменение по сравнению в прошлым значением. Считайте, self.diff будет принимать значение True только при возврате значения курса. При отображении всей информации о валюте он не используется."
   ]
  },
  {
   "cell_type": "code",
   "execution_count": 50,
   "metadata": {},
   "outputs": [
    {
     "data": {
      "text/plain": [
       "{'ID': 'R01239',\n",
       " 'NumCode': '978',\n",
       " 'CharCode': 'EUR',\n",
       " 'Nominal': 1,\n",
       " 'Name': 'Евро',\n",
       " 'Value': 91.6599,\n",
       " 'Previous': 91.5779}"
      ]
     },
     "execution_count": 50,
     "metadata": {},
     "output_type": "execute_result"
    }
   ],
   "source": [
    "Rate('full').make_format('EUR', True) #True/False Не имеет значения"
   ]
  },
  {
   "cell_type": "code",
   "execution_count": 51,
   "metadata": {},
   "outputs": [
    {
     "data": {
      "text/plain": [
       "{'ID': 'R01239',\n",
       " 'NumCode': '978',\n",
       " 'CharCode': 'EUR',\n",
       " 'Nominal': 1,\n",
       " 'Name': 'Евро',\n",
       " 'Value': 91.6599,\n",
       " 'Previous': 91.5779}"
      ]
     },
     "execution_count": 51,
     "metadata": {},
     "output_type": "execute_result"
    }
   ],
   "source": [
    "Rate('full').make_format('EUR', False) #True/False Не имеет значения"
   ]
  },
  {
   "cell_type": "code",
   "execution_count": 52,
   "metadata": {},
   "outputs": [
    {
     "data": {
      "text/plain": [
       "91.6599"
      ]
     },
     "execution_count": 52,
     "metadata": {},
     "output_type": "execute_result"
    }
   ],
   "source": [
    "Rate().make_format('EUR', False) #False - текущий курс"
   ]
  },
  {
   "cell_type": "code",
   "execution_count": 56,
   "metadata": {},
   "outputs": [
    {
     "data": {
      "text/plain": [
       "0.082"
      ]
     },
     "execution_count": 56,
     "metadata": {},
     "output_type": "execute_result"
    }
   ],
   "source": [
    "Rate().make_format('EUR', True) #True - разница\n",
    "    #  \"Value\": 91.6599 - \"Previous\": 91.5779  =  0,082"
   ]
  },
  {
   "cell_type": "markdown",
   "metadata": {},
   "source": [
    "**Задание 3**\n",
    "Напишите класс Designer, который учитывает количество международных премий для дизайнеров (из презентации: \"Повышение на 1 грейд за каждые 7 баллов. Получение международной премии – это +2 балла\" для каждой аккредитации увеличиваем счетчик на 1, пока считаем, что все дизайнеры проходят аккредитацию). Считайте, что при выходе на работу сотрудник уже имеет две премии и их количество меняется со стажем (получение премии генератор случайных чисел ). Выполните проверку для 20 аккредитаций дизайнера Елены."
   ]
  },
  {
   "cell_type": "code",
   "execution_count": 3,
   "metadata": {},
   "outputs": [],
   "source": [
    "import random"
   ]
  },
  {
   "cell_type": "code",
   "execution_count": 4,
   "metadata": {},
   "outputs": [],
   "source": [
    "class Employee:\n",
    "    def __init__(self, name, seniority):\n",
    "        self.name = name\n",
    "        self.seniority = seniority\n",
    "        self.grade = 1\n",
    "    \n",
    "    def grade_up(self):\n",
    "        \"\"\"Повышает уровень сотрудника\"\"\"\n",
    "        self.grade += 1\n",
    "    \n",
    "    def publish_grade(self):\n",
    "        \"\"\"Публикация результатов аккредитации сотрудников\"\"\"\n",
    "        print(self.name, self.grade)\n",
    "    \n",
    "    def upgrade(self):\n",
    "        pass"
   ]
  },
  {
   "cell_type": "code",
   "execution_count": 5,
   "metadata": {},
   "outputs": [],
   "source": [
    "class Designer(Employee):    \n",
    "    def __init__(self, name, seniority, awards=2):\n",
    "        self.name = name\n",
    "        self.seniority = seniority\n",
    "        self.grade = awards*2\n",
    "        \n",
    "    def grade_up(self): #Повышает уровень сотрудника\n",
    "        self.grade += 1\n",
    "        print(\"Акредитация\", self.grade)\n",
    "        \n",
    "        if self.grade%7 == 0:\n",
    "            print(\"Повышение! Грейд \", self.grade//7)\n",
    "            \n",
    "        proba = random.uniform(0, 1)\n",
    "        prize = round(proba, 1)\n",
    "        print(\"Вероятность премии: \", prize)\n",
    "        if prize >= 0.4:\n",
    "            self.grade += 2\n",
    "            print(\"Премия!\", self.grade)\n",
    "            \n",
    "        if self.grade%7 == 0:\n",
    "            print(\"Повышение!Грейд \", self.grade//7)\n",
    "       \n",
    "        x = self.grade + 0\n",
    "       \n",
    "        return x"
   ]
  },
  {
   "cell_type": "code",
   "execution_count": 11,
   "metadata": {},
   "outputs": [
    {
     "name": "stdout",
     "output_type": "stream",
     "text": [
      "Акредитация 5\n",
      "Вероятность премии:  0.7\n",
      "Премия! 7\n",
      "Повышение!Грейд  1\n",
      "Акредитация 8\n",
      "Вероятность премии:  0.0\n",
      "Акредитация 9\n",
      "Вероятность премии:  0.6\n",
      "Премия! 11\n",
      "Акредитация 12\n",
      "Вероятность премии:  0.5\n",
      "Премия! 14\n",
      "Повышение!Грейд  2\n",
      "Акредитация 15\n",
      "Вероятность премии:  0.5\n",
      "Премия! 17\n",
      "Акредитация 18\n",
      "Вероятность премии:  0.9\n",
      "Премия! 20\n",
      "Акредитация 21\n",
      "Повышение! Грейд  3\n",
      "Вероятность премии:  0.6\n",
      "Премия! 23\n",
      "Акредитация 24\n",
      "Вероятность премии:  0.6\n",
      "Премия! 26\n",
      "Акредитация 27\n",
      "Вероятность премии:  0.2\n",
      "Акредитация 28\n",
      "Повышение! Грейд  4\n",
      "Вероятность премии:  0.4\n",
      "Премия! 30\n",
      "Акредитация 31\n",
      "Вероятность премии:  0.3\n",
      "Акредитация 32\n",
      "Вероятность премии:  0.7\n",
      "Премия! 34\n",
      "Акредитация 35\n",
      "Повышение! Грейд  5\n",
      "Вероятность премии:  0.9\n",
      "Премия! 37\n",
      "Акредитация 38\n",
      "Вероятность премии:  0.8\n",
      "Премия! 40\n",
      "Акредитация 41\n",
      "Вероятность премии:  0.9\n",
      "Премия! 43\n",
      "Акредитация 44\n",
      "Вероятность премии:  0.2\n",
      "Акредитация 45\n",
      "Вероятность премии:  0.2\n",
      "Акредитация 46\n",
      "Вероятность премии:  0.7\n",
      "Премия! 48\n",
      "Акредитация 49\n",
      "Повышение! Грейд  7\n",
      "Вероятность премии:  0.6\n",
      "Премия! 51\n",
      "Акредитация 52\n",
      "Вероятность премии:  0.0\n",
      "\n",
      "\tГрейд  7\n",
      "\tНабрано баллов  52\n"
     ]
    }
   ],
   "source": [
    "Elena = Designer('Елена', seniority=0, awards=2)\n",
    "for i in range(20):\n",
    "    x = Elena.grade_up()\n",
    "    \n",
    "if x%7 == 0: #проверяем Грейд - целый?\n",
    "    print(\"\\n\\tГрейд \", x//7)\n",
    "else: #тогда Грейд меньше\n",
    "    for i in range(7):\n",
    "        if (x-i)%7 == 0:\n",
    "            print(\"\\n\\tГрейд \", x//7)\n",
    "            \n",
    "print(\"\\tНабрано баллов \", x)  "
   ]
  },
  {
   "cell_type": "code",
   "execution_count": null,
   "metadata": {},
   "outputs": [],
   "source": []
  }
 ],
 "metadata": {
  "kernelspec": {
   "display_name": "Python 3",
   "language": "python",
   "name": "python3"
  },
  "language_info": {
   "codemirror_mode": {
    "name": "ipython",
    "version": 3
   },
   "file_extension": ".py",
   "mimetype": "text/x-python",
   "name": "python",
   "nbconvert_exporter": "python",
   "pygments_lexer": "ipython3",
   "version": "3.8.3"
  }
 },
 "nbformat": 4,
 "nbformat_minor": 4
}
