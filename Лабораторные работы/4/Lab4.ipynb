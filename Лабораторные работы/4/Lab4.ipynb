{
 "cells": [
  {
   "cell_type": "markdown",
   "metadata": {},
   "source": [
    "**Задание 1**\n",
    "Печатные газеты использовали свой формат дат для каждого выпуска. Для каждой газеты из списка напишите формат указанной даты для перевода в объект datetime:\n",
    "- The Moscow Times - Wednesday, October 2, 2002\n",
    "- The Guardian - Friday, 11.10.13\n",
    "- Daily News - Thursday, 18 August 1977 "
   ]
  },
  {
   "cell_type": "markdown",
   "metadata": {},
   "source": [
    "Через условный оператор проверяется какая газета введена, и в соответсвующей ветке через нужный формат переводится из строки в datetime. Чтобы не указывались часы и минуты воспользовалась методом date()"
   ]
  },
  {
   "cell_type": "code",
   "execution_count": 261,
   "metadata": {},
   "outputs": [
    {
     "name": "stdout",
     "output_type": "stream",
     "text": [
      "The Guardian- 2013-10-11\n"
     ]
    }
   ],
   "source": [
    "from datetime import datetime\n",
    "newspaper = 'The Guardian'\n",
    "\n",
    "if newspaper == 'The Moscow Times':\n",
    "    date_datetime = datetime.strptime('Wednesday, October 2, 2002', '%A, %B %d, %Y')\n",
    "    date = date_datetime.date()\n",
    "    print(newspaper + '-', date)\n",
    "elif newspaper == 'The Guardian':\n",
    "    date_datetime = datetime.strptime('Friday, 11.10.13', '%A, %d.%m.%y')\n",
    "    date = date_datetime.date()\n",
    "    print(newspaper + '-', date)   \n",
    "elif newspaper == 'Daily News':\n",
    "    date_datetime = datetime.strptime('Thursday, 18 August 1977', '%A, %d %B  %Y')\n",
    "    date = date_datetime.date()\n",
    "    print(newspaper + '-', date)   \n",
    "else:\n",
    "    print('Не известно')   "
   ]
  },
  {
   "cell_type": "markdown",
   "metadata": {},
   "source": [
    "**Задание 2**\n",
    "Дан поток дат в формате YYYY-MM-DD, в которых встречаются некорректные значения:\n",
    "stream = [‘2018-04-02’, ‘2018-02-29’, ‘2018-19-02’].\n",
    "Напишите функцию, которая проверяет эти даты на корректность. Т. е. для каждой даты возвращает True (дата корректна) или False (некорректная дата)."
   ]
  },
  {
   "cell_type": "markdown",
   "metadata": {},
   "source": [
    "Если получилось перевести строку методом datetime.strptime(строка, формат) то говорим, что данные корректны, иначе не корректны"
   ]
  },
  {
   "cell_type": "code",
   "execution_count": 15,
   "metadata": {},
   "outputs": [],
   "source": [
    "from datetime import datetime"
   ]
  },
  {
   "cell_type": "code",
   "execution_count": 28,
   "metadata": {},
   "outputs": [],
   "source": [
    "stream = ['2018-04-02', '2018-02-29', '2018-19-02']"
   ]
  },
  {
   "cell_type": "code",
   "execution_count": 33,
   "metadata": {},
   "outputs": [],
   "source": [
    "def correctness(date):\n",
    "    try:\n",
    "        datetime.strptime(date, '%Y-%m-%d')\n",
    "        print('дата ', date, ' корректна')\n",
    "        return True\n",
    "    except Exception:\n",
    "        print('дата ', date, ' не корректна!')\n",
    "        return False"
   ]
  },
  {
   "cell_type": "code",
   "execution_count": 34,
   "metadata": {},
   "outputs": [
    {
     "name": "stdout",
     "output_type": "stream",
     "text": [
      "дата  2018-04-02  корректна\n",
      "дата  2018-02-29  не корректна!\n",
      "дата  2018-19-02  не корректна!\n"
     ]
    }
   ],
   "source": [
    "for date in stream:\n",
    "    correctness(date)"
   ]
  },
  {
   "cell_type": "code",
   "execution_count": 35,
   "metadata": {},
   "outputs": [
    {
     "name": "stdout",
     "output_type": "stream",
     "text": [
      "дата  2018-04-02  корректна\n",
      "дата  2020-02-29  корректна\n",
      "дата  2018-09-19  корректна\n"
     ]
    }
   ],
   "source": [
    "stream = ['2018-04-02', '2020-02-29', '2018-09-19']\n",
    "for date in stream:\n",
    "    correctness(date)"
   ]
  },
  {
   "cell_type": "code",
   "execution_count": 36,
   "metadata": {},
   "outputs": [
    {
     "name": "stdout",
     "output_type": "stream",
     "text": [
      "дата  2018-04-32  не корректна!\n",
      "дата  2020-01-00  не корректна!\n",
      "дата  12018-05-7  не корректна!\n"
     ]
    }
   ],
   "source": [
    "stream = ['2018-04-32', '2020-01-00', '12018-05-7']\n",
    "for date in stream:\n",
    "    correctness(date)"
   ]
  },
  {
   "cell_type": "markdown",
   "metadata": {},
   "source": [
    "**Задание 3**\n",
    "Напишите функцию date_range, которая возвращает список дат за период от start_date до end_date. Даты должны вводиться в формате YYYY-MM-DD. В случае неверного формата или при start_date > end_date должен возвращаться пустой список."
   ]
  },
  {
   "cell_type": "markdown",
   "metadata": {},
   "source": [
    "- На вход функции date_range подуются строки start_date и end_date\n",
    "- Вызывается функция из задания № 2. Если данные не корректны, то возвращается пустой список\n",
    "- Строки start_date и end_date переведем в тип даты start и end соответственно\n",
    "- Если start > end, то возвращается пустой список\n",
    "- Период (в днях и времени) между start и end: amount_of_days = end-start\n",
    "- Т.к start и end должны входить в полученный период, то  n = amount_of_days.days + 1 \n",
    "- В цикле переведем получившиеся даты в строку нужного формата\n",
    "- Возвращаем получившийся список"
   ]
  },
  {
   "cell_type": "code",
   "execution_count": 56,
   "metadata": {},
   "outputs": [],
   "source": [
    "from datetime import datetime\n",
    "from datetime import timedelta"
   ]
  },
  {
   "cell_type": "code",
   "execution_count": 264,
   "metadata": {},
   "outputs": [],
   "source": [
    "def date_range(start_date, end_date): \n",
    "    dateList = []\n",
    "    if correctness(end_date) == False or correctness(start_date) == False:\n",
    "            return dateList\n",
    "    else:\n",
    "        end = datetime.strptime(end_date,'%Y-%m-%d')\n",
    "        start = datetime.strptime(start_date,'%Y-%m-%d')\n",
    "        if start > end:\n",
    "            print('Начальная дата больше конечной!')\n",
    "            return dateList\n",
    "        else:                     \n",
    "            amount_of_days = end-start\n",
    "            n = amount_of_days.days + 1  \n",
    "            print('Количество дней между ' + start_date +' и ' + end_date + ' = ', n)\n",
    "            for x in range(n):\n",
    "                dateList.append((start+timedelta(x)).strftime('%Y-%m-%d'))\n",
    "            return dateList"
   ]
  },
  {
   "cell_type": "code",
   "execution_count": 265,
   "metadata": {},
   "outputs": [
    {
     "name": "stdout",
     "output_type": "stream",
     "text": [
      "дата  2018-12-05  корректна\n",
      "дата  2018-11-25  корректна\n",
      "Количество дней между 2018-11-25 и 2018-12-05 =  11\n"
     ]
    },
    {
     "data": {
      "text/plain": [
       "['2018-11-25',\n",
       " '2018-11-26',\n",
       " '2018-11-27',\n",
       " '2018-11-28',\n",
       " '2018-11-29',\n",
       " '2018-11-30',\n",
       " '2018-12-01',\n",
       " '2018-12-02',\n",
       " '2018-12-03',\n",
       " '2018-12-04',\n",
       " '2018-12-05']"
      ]
     },
     "execution_count": 265,
     "metadata": {},
     "output_type": "execute_result"
    }
   ],
   "source": [
    "date_range('2018-11-25', '2018-12-05')"
   ]
  },
  {
   "cell_type": "code",
   "execution_count": 195,
   "metadata": {},
   "outputs": [
    {
     "name": "stdout",
     "output_type": "stream",
     "text": [
      "дата  2018-01-01  корректна\n",
      "дата  2018-12-15  корректна\n",
      "Начальная дата больше конечной!\n"
     ]
    },
    {
     "data": {
      "text/plain": [
       "[]"
      ]
     },
     "execution_count": 195,
     "metadata": {},
     "output_type": "execute_result"
    }
   ],
   "source": [
    "date_range('2018-12-15', '2018-01-01')"
   ]
  },
  {
   "cell_type": "code",
   "execution_count": 196,
   "metadata": {},
   "outputs": [
    {
     "name": "stdout",
     "output_type": "stream",
     "text": [
      "дата  2018-06-01  корректна\n",
      "дата  2018-02-29  не корректна!\n"
     ]
    },
    {
     "data": {
      "text/plain": [
       "[]"
      ]
     },
     "execution_count": 196,
     "metadata": {},
     "output_type": "execute_result"
    }
   ],
   "source": [
    "date_range('2018-02-29', '2018-06-01')"
   ]
  },
  {
   "cell_type": "code",
   "execution_count": 197,
   "metadata": {},
   "outputs": [
    {
     "name": "stdout",
     "output_type": "stream",
     "text": [
      "дата  2018-06-31  не корректна!\n"
     ]
    },
    {
     "data": {
      "text/plain": [
       "[]"
      ]
     },
     "execution_count": 197,
     "metadata": {},
     "output_type": "execute_result"
    }
   ],
   "source": [
    "date_range('2018-06-20', '2018-06-31')"
   ]
  },
  {
   "cell_type": "markdown",
   "metadata": {},
   "source": [
    "**Задание 4**\n",
    "Ваш коллега прислал код функции:\n",
    "\n",
    "DEFAULT_USER_COUNT = 3\n",
    "\n",
    "def delete_and_return_last_user(region, default_list=[‘A100’, ‘A101’, ‘A102’]):\n",
    "\"\"“\n",
    "Удаляет из списка default_list последнего пользователя\n",
    "и возвращает ID нового последнего пользователя.\n",
    "”\"\"\n",
    "element_to_delete = default_list[-1]\n",
    "default_list.remove(element_to_delete)\n",
    "\n",
    "return default_list[DEFAULT_USER_COUNT-2]\n",
    "При однократном вызове этой функции все работает корректно:\n",
    "delete_and_return_last_user(1)\n",
    "‘A101’\n",
    "\n",
    "Однако, при повторном вызове получается ошибка IndexError: list index out of range.\n",
    "\n",
    "**Задание**:\n",
    "\n",
    "Что значит ошибка list index out of range?\n",
    "Почему при первом запуске функция работает корректно, а при втором - нет?"
   ]
  },
  {
   "cell_type": "code",
   "execution_count": null,
   "metadata": {},
   "outputs": [],
   "source": [
    "DEFAULT_USER_COUNT = 3\n",
    "\n",
    "def delete_and_return_last_user(region, default_list=['A100', 'A101', 'A102']): \n",
    "    #Удаляет из списка default_list последнего пользователя и возвращает ID нового последнего пользователя. \n",
    "    element_to_delete = default_list[-1] \n",
    "    default_list.remove(element_to_delete)\n",
    "    return default_list[DEFAULT_USER_COUNT-2] \n",
    "\n",
    "delete_and_return_last_user(1) "
   ]
  },
  {
   "cell_type": "markdown",
   "metadata": {},
   "source": [
    "Ошибка list index out of range происходит тогда, когда мы ссылаемся на несущуствующий элемент.\n",
    "\n",
    "Почему возникла ошибка в данном примере:\n",
    "- DEFAULT_USER_COUNT-2 = 3-2 = 1\n",
    "Т.е. мы возвращаем элемент с индексом 1 - элемент 'A101'\n",
    "- Рассмотрим последющий вызов: возвращаемый элемент будет также по индексом 1. Но элемент с этим индексом мы удалили строкой выше.\n",
    "Т.е. мы пытаемся вернуть значение, которого уже не существует\n",
    "\n",
    "Исправим эту ошибку. Для тестирования добавим в список больше элементов"
   ]
  },
  {
   "cell_type": "code",
   "execution_count": 248,
   "metadata": {},
   "outputs": [],
   "source": [
    "def fixed(region, default_list=['A100', 'A101', 'A102','A103','A104']):\n",
    "    #  Удаляет из списка default_list последнего пользователя и возвращает ID нового последнего пользователя.\n",
    "    n = len(default_list)\n",
    "    if n > 1:\n",
    "        element_to_delete = default_list[-1]\n",
    "        print('Удалить ' + element_to_delete)\n",
    "        default_list.remove(element_to_delete)\n",
    "        x = default_list[n-2]\n",
    "        print('Последний ' + x)\n",
    "        return x\n",
    "    else:\n",
    "        print('Список пуст!')\n",
    "        return 0"
   ]
  },
  {
   "cell_type": "code",
   "execution_count": 249,
   "metadata": {},
   "outputs": [
    {
     "name": "stdout",
     "output_type": "stream",
     "text": [
      "Удалить A104\n",
      "Последний A103\n"
     ]
    },
    {
     "data": {
      "text/plain": [
       "'A103'"
      ]
     },
     "execution_count": 249,
     "metadata": {},
     "output_type": "execute_result"
    }
   ],
   "source": [
    "fixed(1)"
   ]
  },
  {
   "cell_type": "code",
   "execution_count": 250,
   "metadata": {},
   "outputs": [
    {
     "name": "stdout",
     "output_type": "stream",
     "text": [
      "Удалить A103\n",
      "Последний A102\n"
     ]
    },
    {
     "data": {
      "text/plain": [
       "'A102'"
      ]
     },
     "execution_count": 250,
     "metadata": {},
     "output_type": "execute_result"
    }
   ],
   "source": [
    "fixed(1)"
   ]
  },
  {
   "cell_type": "code",
   "execution_count": 251,
   "metadata": {},
   "outputs": [
    {
     "name": "stdout",
     "output_type": "stream",
     "text": [
      "Удалить A102\n",
      "Последний A101\n"
     ]
    },
    {
     "data": {
      "text/plain": [
       "'A101'"
      ]
     },
     "execution_count": 251,
     "metadata": {},
     "output_type": "execute_result"
    }
   ],
   "source": [
    "fixed(1)"
   ]
  },
  {
   "cell_type": "code",
   "execution_count": 252,
   "metadata": {},
   "outputs": [
    {
     "name": "stdout",
     "output_type": "stream",
     "text": [
      "Удалить A101\n",
      "Последний A100\n"
     ]
    },
    {
     "data": {
      "text/plain": [
       "'A100'"
      ]
     },
     "execution_count": 252,
     "metadata": {},
     "output_type": "execute_result"
    }
   ],
   "source": [
    "fixed(1)"
   ]
  },
  {
   "cell_type": "code",
   "execution_count": 253,
   "metadata": {},
   "outputs": [
    {
     "name": "stdout",
     "output_type": "stream",
     "text": [
      "Список пуст!\n"
     ]
    },
    {
     "data": {
      "text/plain": [
       "0"
      ]
     },
     "execution_count": 253,
     "metadata": {},
     "output_type": "execute_result"
    }
   ],
   "source": [
    "fixed(1)"
   ]
  },
  {
   "cell_type": "markdown",
   "metadata": {},
   "source": [
    "В данной версии функции мы опираемся на текущее количество элементов в списке. К каждым новым вызовом оно будет меняться (точнее уменьшаться). Также рассмотрен крайнее значение - когда удалили единсвенный элемент списка. Поэтому ошибки list index out of range не возникнет ни в одном из вызовов"
   ]
  }
 ],
 "metadata": {
  "kernelspec": {
   "display_name": "Python 3",
   "language": "python",
   "name": "python3"
  },
  "language_info": {
   "codemirror_mode": {
    "name": "ipython",
    "version": 3
   },
   "file_extension": ".py",
   "mimetype": "text/x-python",
   "name": "python",
   "nbconvert_exporter": "python",
   "pygments_lexer": "ipython3",
   "version": "3.8.3"
  }
 },
 "nbformat": 4,
 "nbformat_minor": 4
}
