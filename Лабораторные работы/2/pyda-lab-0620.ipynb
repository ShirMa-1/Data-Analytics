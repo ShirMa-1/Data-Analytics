{
 "cells": [
  {
   "cell_type": "markdown",
   "metadata": {},
   "source": [
    "## Лабораторная работа по курсу «Python для анализа данных»"
   ]
  },
  {
   "cell_type": "markdown",
   "metadata": {},
   "source": [
    "### При выполнении работы допускается использование любых внешних модулей и пакетов."
   ]
  },
  {
   "cell_type": "markdown",
   "metadata": {},
   "source": [
    "#### Задача 1"
   ]
  },
  {
   "cell_type": "markdown",
   "metadata": {},
   "source": [
    "Дана строка:"
   ]
  },
  {
   "cell_type": "code",
   "execution_count": 2,
   "metadata": {},
   "outputs": [],
   "source": [
    "string_01 = \"History is always written by the winners. When two cultures clash, the loser is obliterated, and the winner writes the history books - books which glorify their own cause and disparage the conquered foe. As Napoleon once said, 'What is history, but a fable agreed upon?'\""
   ]
  },
  {
   "cell_type": "markdown",
   "metadata": {},
   "source": [
    "1. Посчитайте, сколько в строке символов, исключая пробелы:"
   ]
  },
  {
   "cell_type": "code",
   "execution_count": 3,
   "metadata": {},
   "outputs": [
    {
     "data": {
      "text/plain": [
       "270"
      ]
     },
     "execution_count": 3,
     "metadata": {},
     "output_type": "execute_result"
    }
   ],
   "source": [
    "len(string_01)"
   ]
  },
  {
   "cell_type": "markdown",
   "metadata": {},
   "source": [
    "2. Посчитайте, сколько в строке слов."
   ]
  },
  {
   "cell_type": "code",
   "execution_count": 4,
   "metadata": {},
   "outputs": [
    {
     "data": {
      "text/plain": [
       "45"
      ]
     },
     "execution_count": 4,
     "metadata": {},
     "output_type": "execute_result"
    }
   ],
   "source": [
    "string_01.count(\" \")"
   ]
  },
  {
   "cell_type": "markdown",
   "metadata": {},
   "source": [
    "3. Напишите функцию, которая будет принимать в качестве аргумента букву и выводить все слова из строки, начинающиеся на эту букву (например, “w”)."
   ]
  },
  {
   "cell_type": "code",
   "execution_count": 16,
   "metadata": {},
   "outputs": [
    {
     "name": "stdout",
     "output_type": "stream",
     "text": [
      "written winners when winner writes which\n"
     ]
    }
   ],
   "source": [
    "def word_starting_with_a_letter(letter):\n",
    "    \n",
    "    str_01 = string_01.replace('.', ' ')\n",
    "    str_01 = str_01.replace(',', ' ')\n",
    "    str_01 = str_01.replace('?', ' ')\n",
    "    str_01 = str_01.replace(':', ' ')\n",
    "    str_01 = str_01.replace(';', ' ')\n",
    "    str_01 = str_01.replace('!', ' ')\n",
    "    str_01 = str_01.replace('\"', ' ')\n",
    "    \n",
    "    if letter.islower():\n",
    "        str_01 = str_01.replace(letter.upper(), letter.lower())\n",
    "    if letter.isupper():\n",
    "        str_01 = str_01.replace(letter.lower(), letter.upper())\n",
    "        \n",
    "    print(' '.join([word for word in str_01.split() if word.startswith(letter)]))\n",
    "      \n",
    "word_starting_with_a_letter('w')"
   ]
  },
  {
   "cell_type": "code",
   "execution_count": 19,
   "metadata": {},
   "outputs": [
    {
     "name": "stdout",
     "output_type": "stream",
     "text": [
      "History History History\n"
     ]
    }
   ],
   "source": [
    "def word_starting_with_a_letter(letter):\n",
    "    \n",
    "    str_01 = string_01.replace('.', ' ')\n",
    "    str_01 = str_01.replace(',', ' ')\n",
    "    str_01 = str_01.replace('?', ' ')\n",
    "    str_01 = str_01.replace(':', ' ')\n",
    "    str_01 = str_01.replace(';', ' ')\n",
    "    str_01 = str_01.replace('!', ' ')\n",
    "    str_01 = str_01.replace('\"', ' ')\n",
    "        \n",
    "    if letter.islower():\n",
    "        str_01 = str_01.replace(letter.upper(), letter.lower())\n",
    "    if letter.isupper():\n",
    "        str_01 = str_01.replace(letter.lower(), letter.upper())\n",
    "        \n",
    "    print(' '.join([word for word in str_01.split() if word.startswith(letter)]))\n",
    "      \n",
    "word_starting_with_a_letter('H')"
   ]
  },
  {
   "cell_type": "markdown",
   "metadata": {},
   "source": [
    "#### Задача 2"
   ]
  },
  {
   "cell_type": "markdown",
   "metadata": {},
   "source": [
    "Напишите код, который будет генерировать случайную последовательность из 6 цифр, одна из которых должна быть 3. Позиция цифры 3 должна\n",
    "определяться случайным образом. Результат должен быть строкой. Например: \"456309\" или \"330127\"."
   ]
  },
  {
   "cell_type": "code",
   "execution_count": 17,
   "metadata": {},
   "outputs": [],
   "source": [
    "import random"
   ]
  },
  {
   "cell_type": "code",
   "execution_count": 175,
   "metadata": {},
   "outputs": [
    {
     "name": "stdout",
     "output_type": "stream",
     "text": [
      "778679\n",
      "\t# Позиция нуля =  4 \t Позиция тройки =  3\n",
      "778379\n"
     ]
    }
   ],
   "source": [
    "x = random.randint(100000, 1000000)\n",
    "y = str(x)\n",
    "print(y)\n",
    "\n",
    "three = random.randint(0, 5) if y.find('3') == -1 else 6\n",
    "zero =  random.randint(0, 5) \n",
    "print(\"\\t# Позиция нуля = \", zero, \"\\t Позиция тройки = \", three)\n",
    "\n",
    "n = y.replace(y[zero], '0', 1) if zero == 0 else y.replace(y[zero], y[zero], 1) \n",
    "print(n[:three] + '3' + n[three+1:])\n",
    "#print(type(m))"
   ]
  },
  {
   "cell_type": "code",
   "execution_count": 205,
   "metadata": {},
   "outputs": [
    {
     "name": "stdout",
     "output_type": "stream",
     "text": [
      "478822\n",
      "\t# Позиция нуля =  0 \t Позиция тройки =  1\n",
      "038822\n"
     ]
    }
   ],
   "source": [
    "x = random.randint(100000, 1000000)\n",
    "y = str(x)\n",
    "print(y)\n",
    "\n",
    "three = random.randint(0, 5) if y.find('3') == -1 else 6\n",
    "zero = 0\n",
    "print(\"\\t# Позиция нуля = \", zero, \"\\t Позиция тройки = \", three)\n",
    "\n",
    "n = y.replace(y[zero], '0', 1) if zero == 0 else y.replace(y[zero], y[zero], 1) \n",
    "print(n[:three] + '3' + n[three+1:])\n",
    "#print(type(m))"
   ]
  },
  {
   "cell_type": "code",
   "execution_count": 206,
   "metadata": {},
   "outputs": [
    {
     "name": "stdout",
     "output_type": "stream",
     "text": [
      "140617\n",
      "\t# Позиция нуля =  0 \t Позиция тройки =  0\n",
      "340617\n"
     ]
    }
   ],
   "source": [
    "x = random.randint(100000, 1000000)\n",
    "y = str(x)\n",
    "print(y)\n",
    "\n",
    "three = 0\n",
    "zero = 0\n",
    "print(\"\\t# Позиция нуля = \", zero, \"\\t Позиция тройки = \", three)\n",
    "\n",
    "n = y.replace(y[zero], '0', 1) if zero == 0 else y.replace(y[zero], y[zero], 1) \n",
    "print(n[:three] + '3' + n[three+1:])\n",
    "#print(type(m))"
   ]
  },
  {
   "cell_type": "markdown",
   "metadata": {},
   "source": [
    "#### Задача 3"
   ]
  },
  {
   "cell_type": "markdown",
   "metadata": {},
   "source": [
    "Дан список:"
   ]
  },
  {
   "cell_type": "code",
   "execution_count": 52,
   "metadata": {},
   "outputs": [],
   "source": [
    "list_01 = [1, 1, 2, 3, 5, 8, 13, 21, 34, 55, 89, 144, 233, 377, 610, 14, 46, 273, 22, 99, 15, 1000]"
   ]
  },
  {
   "cell_type": "markdown",
   "metadata": {},
   "source": [
    "Напишите алгоритм, который выводит число, равное сумме элементов списка, которые больше 10, но меньше 100, и которые больше 200, но меньше 500."
   ]
  },
  {
   "cell_type": "code",
   "execution_count": 58,
   "metadata": {},
   "outputs": [
    {
     "name": "stdout",
     "output_type": "stream",
     "text": [
      "Сумма:  3065 \n",
      "Числа (10; 100): [13, 21, 34, 55, 89, 14, 46, 22, 99, 15] \n",
      "Числа (200; 500): [233, 377, 273]\n"
     ]
    }
   ],
   "source": [
    "print(\"Сумма: \", sum(list_01),\n",
    "      \"\\nЧисла (10; 100):\", [x for x in list_01 if 10 < x < 100] , \n",
    "      \"\\nЧисла (200; 500):\" , [y for y in list_01 if 200 < y < 500])"
   ]
  },
  {
   "cell_type": "markdown",
   "metadata": {},
   "source": [
    "#### Задача 4"
   ]
  },
  {
   "cell_type": "markdown",
   "metadata": {},
   "source": [
    "Данные студентов представлены в виде списка списков:"
   ]
  },
  {
   "cell_type": "code",
   "execution_count": 62,
   "metadata": {},
   "outputs": [],
   "source": [
    "students = [\n",
    "[\"0001\", \"Антонов\", \"Антон\", \"Игоревич\", \"20.08.2009\",\"БСТ161\"],\n",
    "[\"1102\", \"Богов\", \"Артем\", \"Игоревич\", \"25.01.2010\",\"БСТ162\"],\n",
    "[\"0333\", \"Глаголева\", \"Анастасия\", \"Николаевна\", \"11.07.2009\", \"БСТ163\"],\n",
    "[\"4004\", \"Степанова\", \"Наталья\", \"Александровна\", \"13.02.2008\", \"БСТ161\"],\n",
    "[\"0045\", \"Боков\", \"Игорь\", \"Харитонович\", \"02.06.2009\", \"БСТ161\"],\n",
    "[\"0096\", \"Васильков\", \"Валентин\", \"Сергеевич\", \"20.03.2009\", \"БСТ164\"],\n",
    "[\"0607\", \"Сиропова\", \"Виолетта\", \"Эдуардовна\", \"28.05.2010\", \"БСТ162\"]\n",
    "    ]"
   ]
  },
  {
   "cell_type": "markdown",
   "metadata": {},
   "source": [
    "1. Преобразуйте данные таким образом, чтобы они были представлены в виде словаря, в котором ключами являются номера студентов, а значениями — список из других данных о студентах."
   ]
  },
  {
   "cell_type": "code",
   "execution_count": 178,
   "metadata": {},
   "outputs": [
    {
     "data": {
      "text/plain": [
       "{'0001': ['Антонов', 'Антон', 'Игоревич', '20.08.2009', 'БСТ161'],\n",
       " '1102': ['Богов', 'Артем', 'Игоревич', '25.01.2010', 'БСТ162'],\n",
       " '0333': ['Глаголева', 'Анастасия', 'Николаевна', '11.07.2009', 'БСТ163'],\n",
       " '4004': ['Степанова', 'Наталья', 'Александровна', '13.02.2008', 'БСТ161'],\n",
       " '0045': ['Боков', 'Игорь', 'Харитонович', '02.06.2009', 'БСТ161'],\n",
       " '0096': ['Васильков', 'Валентин', 'Сергеевич', '20.03.2009', 'БСТ164'],\n",
       " '0607': ['Сиропова', 'Виолетта', 'Эдуардовна', '28.05.2010', 'БСТ162']}"
      ]
     },
     "execution_count": 178,
     "metadata": {},
     "output_type": "execute_result"
    }
   ],
   "source": [
    "student_dict = {x[0]: x[1: ] for x in students}\n",
    "student_dict"
   ]
  },
  {
   "cell_type": "markdown",
   "metadata": {},
   "source": [
    "2. Напишите функцию, которая принимает в качестве аргумента номер студента и новый номер группы и позволяет изменить номер группы этого студента на новый внутри созданного словаря."
   ]
  },
  {
   "cell_type": "code",
   "execution_count": 179,
   "metadata": {},
   "outputs": [
    {
     "data": {
      "text/plain": [
       "{'0001': ['Антонов', 'Антон', 'Игоревич', '20.08.2009', 'БСТ161'],\n",
       " '1102': ['Богов', 'Артем', 'Игоревич', '25.01.2010', 'БСТ162'],\n",
       " '0333': ['Глаголева', 'Анастасия', 'Николаевна', '11.07.2009', 'БСТ163'],\n",
       " '4004': ['Степанова', 'Наталья', 'Александровна', '13.02.2008', 'БСТ161'],\n",
       " '0045': ['Боков', 'Игорь', 'Харитонович', '02.06.2009', 'БСТ161'],\n",
       " '0096': ['Васильков', 'Валентин', 'Сергеевич', '20.03.2009', 'БСТ164'],\n",
       " '0607': ['Сиропова', 'Виолетта', 'Эдуардовна', '28.05.2010', 'БПО-18-01']}"
      ]
     },
     "execution_count": 179,
     "metadata": {},
     "output_type": "execute_result"
    }
   ],
   "source": [
    "def change_group(number, group):\n",
    "    for key, value in student_dict.items():\n",
    "        if key == number:\n",
    "            value[-1] = group\n",
    "    return student_dict\n",
    "    \n",
    "change_group('0607', 'БПО-18-01')"
   ]
  },
  {
   "cell_type": "markdown",
   "metadata": {},
   "source": [
    "3. Напишите функцию, которая принимает номер группы и выводит список (фамилии, имена, отчества) всех студентов этой группы. Необходимо обращаться к словарю."
   ]
  },
  {
   "cell_type": "code",
   "execution_count": 190,
   "metadata": {},
   "outputs": [
    {
     "name": "stdout",
     "output_type": "stream",
     "text": [
      "Антонов Антон Игоревич\n",
      "Степанова Наталья Александровна\n",
      "Боков Игорь Харитонович\n"
     ]
    }
   ],
   "source": [
    "def outputFIO(group):\n",
    "    for value in student_dict.values():\n",
    "        if value[-1] == group:\n",
    "            print(value[0] + ' '+ value[1] + ' ' + value[2])  \n",
    "    \n",
    "outputFIO('БСТ161') "
   ]
  },
  {
   "cell_type": "code",
   "execution_count": 195,
   "metadata": {},
   "outputs": [
    {
     "name": "stdout",
     "output_type": "stream",
     "text": [
      "Сиропова Виолетта Эдуардовна\n"
     ]
    }
   ],
   "source": [
    "def outputFIO(group):\n",
    "    for value in student_dict.values():\n",
    "        if value[-1] == group:\n",
    "            print(value[0] + ' '+ value[1] + ' ' + value[2])  \n",
    "    \n",
    "outputFIO('БПО-18-01') "
   ]
  },
  {
   "cell_type": "markdown",
   "metadata": {},
   "source": [
    "#### Задача 5"
   ]
  },
  {
   "cell_type": "markdown",
   "metadata": {},
   "source": [
    "Дана матрица:"
   ]
  },
  {
   "cell_type": "code",
   "execution_count": 278,
   "metadata": {},
   "outputs": [],
   "source": [
    "matrix = [ \n",
    "    [0,1,2,4,8], \n",
    "    [6,2,2,1,9], \n",
    "    [3,3,3,3,3], \n",
    "    [4,6,7,1,2], \n",
    "    [5,7,3,4,0] \n",
    "]"
   ]
  },
  {
   "cell_type": "markdown",
   "metadata": {},
   "source": [
    "1. Выведите результат сложения всех элементов матрицы."
   ]
  },
  {
   "cell_type": "code",
   "execution_count": 279,
   "metadata": {},
   "outputs": [
    {
     "data": {
      "text/plain": [
       "89"
      ]
     },
     "execution_count": 279,
     "metadata": {},
     "output_type": "execute_result"
    }
   ],
   "source": [
    "sum([sum(x) for x in matrix])"
   ]
  },
  {
   "cell_type": "markdown",
   "metadata": {},
   "source": [
    "2. Напишите алгоритм вычисления максимума из сумм элементов каждого столбца."
   ]
  },
  {
   "cell_type": "code",
   "execution_count": 280,
   "metadata": {},
   "outputs": [
    {
     "data": {
      "text/plain": [
       "22"
      ]
     },
     "execution_count": 280,
     "metadata": {},
     "output_type": "execute_result"
    }
   ],
   "source": [
    "max([sum(x) for x in zip(*matrix)])"
   ]
  },
  {
   "cell_type": "code",
   "execution_count": null,
   "metadata": {},
   "outputs": [],
   "source": []
  }
 ],
 "metadata": {
  "kernelspec": {
   "display_name": "Python 3",
   "language": "python",
   "name": "python3"
  },
  "language_info": {
   "codemirror_mode": {
    "name": "ipython",
    "version": 3
   },
   "file_extension": ".py",
   "mimetype": "text/x-python",
   "name": "python",
   "nbconvert_exporter": "python",
   "pygments_lexer": "ipython3",
   "version": "3.8.3"
  }
 },
 "nbformat": 4,
 "nbformat_minor": 2
}
